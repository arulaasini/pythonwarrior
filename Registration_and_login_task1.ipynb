{
  "nbformat": 4,
  "nbformat_minor": 0,
  "metadata": {
    "colab": {
      "provenance": [],
      "authorship_tag": "ABX9TyN/UHW/jd96tCyojVCaeo9Y",
      "include_colab_link": true
    },
    "kernelspec": {
      "name": "python3",
      "display_name": "Python 3"
    },
    "language_info": {
      "name": "python"
    }
  },
  "cells": [
    {
      "cell_type": "markdown",
      "metadata": {
        "id": "view-in-github",
        "colab_type": "text"
      },
      "source": [
        "<a href=\"https://colab.research.google.com/github/arulaasini/pythonwarrior/blob/main/Registration_and_login_task1.ipynb\" target=\"_parent\"><img src=\"https://colab.research.google.com/assets/colab-badge.svg\" alt=\"Open In Colab\"/></a>"
      ]
    },
    {
      "cell_type": "code",
      "execution_count": null,
      "metadata": {
        "id": "GjYwlejiG2ZC"
      },
      "outputs": [],
      "source": [
        "#Registration and login system, file handling - task 1\n",
        "import re\n",
        "email_regex = re.compile(r'([A-Za-z0-9]+[.-_])*[A-Za-z0-9]+@[A-Za-z0-9-]+(\\.[A-Z|a-z]{2,})+')\n",
        "pwd_regex = re.compile(r'^(?=.*?[A-Z])(?=.*?[a-z])(?=.*?[0-9])(?=.*?[#?!@$%^&*-]).{5,}$')\n",
        "\n",
        "#username validation\n",
        "def mail_validation(email):\n",
        "    if re.fullmatch(email_regex, email):\n",
        "        return True\n",
        "    else:\n",
        "        return False\n",
        "\n",
        "#password validation    \n",
        "def pwd_validation(pwd):\n",
        "    if re.fullmatch(pwd_regex, pwd):\n",
        "        return True\n",
        "    else:        \n",
        "        return False\n",
        "\n",
        "#register the username using emailID\n",
        "def register():\n",
        "        email = input (\"Enter your emailID: \")\n",
        "        db = open (\"vajravel_task1_up.py\", \"r\")\n",
        "        info = db.read()\n",
        "        if email in info:\n",
        "            print (\"Username already exists, please try again...\")\n",
        "        if mail_validation:\n",
        "                pwd = input (\"Create a password: \")\n",
        "                if pwd_validation:\n",
        "                    print (\"Congrats! Username successfully registered\")\n",
        "                else:\n",
        "                    print (\"Invalid password, please try again...\")\n",
        "        db = open (\"vajravel_task1_up.py\", \"w\")\n",
        "        info = (email+ \" \" + pwd)\n",
        "        db.write(info)\n",
        "        db.close()\n",
        "        \n",
        "#login using the existing username\n",
        "def login():\n",
        "    email = input(\"Enter your emailID: \")\n",
        "    pwd = input(\"Please enter your password: \")\n",
        "    db = open (\"vajravel_task1_up.py\", \"r\")\n",
        "    info = db.read()\n",
        "    info = info.split()\n",
        "    db.close()\n",
        "    if email in info:\n",
        "                index = info.index(email) + 1\n",
        "                usr_password = info[index]\n",
        "                if usr_password == pwd:\n",
        "                    print (\"Success!! Access Granted\")\n",
        "                else:\n",
        "                    print (\"Invalid password, please try again...\")\n",
        "    else:\n",
        "        print (\"Entered emailID is not found, please register to continue...\")\n",
        "\n",
        "#retrive forgotten password\n",
        "def forget_password( ):\n",
        "    email = input(\"Enter your emailID: \")\n",
        "    db = open (\"vajravel_task1_up.py\", \"r\")\n",
        "    info = db.read()\n",
        "    info = info.split()\n",
        "    if email in info:\n",
        "                index = info.index(email) + 1\n",
        "                usr_password = info[index]\n",
        "                print (\"your password is\", usr_password)\n",
        "    else:\n",
        "        print (\"user not found, please register...\")\n",
        "\n",
        "if __name__ == \"__main__\":\n",
        "    try:\n",
        "        while True:\n",
        "            print(''' \\nPlease select an option \\n\n",
        "                1. Register\n",
        "                2. Login\n",
        "                3. Forget Password\n",
        "                ''')\n",
        "            option = int(input())\n",
        "            if option == 1:\n",
        "                register()\n",
        "            elif option == 2:\n",
        "                login()\n",
        "            elif option == 3:\n",
        "                forget_password()\n",
        "            else:\n",
        "                print(\"Invalid Option\")\n",
        "    except:\n",
        "        print(\"An exception occurred\")"
      ]
    }
  ]
}